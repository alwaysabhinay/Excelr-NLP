{
  "nbformat": 4,
  "nbformat_minor": 0,
  "metadata": {
    "colab": {
      "provenance": [],
      "authorship_tag": "ABX9TyPlIIe6047qDGeFohRUq2ks",
      "include_colab_link": true
    },
    "kernelspec": {
      "name": "python3",
      "display_name": "Python 3"
    },
    "language_info": {
      "name": "python"
    }
  },
  "cells": [
    {
      "cell_type": "markdown",
      "metadata": {
        "id": "view-in-github",
        "colab_type": "text"
      },
      "source": [
        "<a href=\"https://colab.research.google.com/github/Thanmayeedindugala25/Excelr-NLP/blob/main/18_02_2025.ipynb\" target=\"_parent\"><img src=\"https://colab.research.google.com/assets/colab-badge.svg\" alt=\"Open In Colab\"/></a>"
      ]
    },
    {
      "cell_type": "markdown",
      "source": [
        "**Scraping Quotes from \"Quotes to Scrape**"
      ],
      "metadata": {
        "id": "aEXszIRrynvp"
      }
    },
    {
      "cell_type": "code",
      "source": [
        "!pip install requests BeautifulSoup4"
      ],
      "metadata": {
        "colab": {
          "base_uri": "https://localhost:8080/"
        },
        "id": "PFY_-8DGy7BL",
        "outputId": "62266d1a-d3a5-4628-b96c-29d56b5a7047"
      },
      "execution_count": 2,
      "outputs": [
        {
          "output_type": "stream",
          "name": "stdout",
          "text": [
            "Requirement already satisfied: requests in /usr/local/lib/python3.11/dist-packages (2.32.3)\n",
            "Requirement already satisfied: BeautifulSoup4 in /usr/local/lib/python3.11/dist-packages (4.13.3)\n",
            "Requirement already satisfied: charset-normalizer<4,>=2 in /usr/local/lib/python3.11/dist-packages (from requests) (3.4.1)\n",
            "Requirement already satisfied: idna<4,>=2.5 in /usr/local/lib/python3.11/dist-packages (from requests) (3.10)\n",
            "Requirement already satisfied: urllib3<3,>=1.21.1 in /usr/local/lib/python3.11/dist-packages (from requests) (2.3.0)\n",
            "Requirement already satisfied: certifi>=2017.4.17 in /usr/local/lib/python3.11/dist-packages (from requests) (2025.1.31)\n",
            "Requirement already satisfied: soupsieve>1.2 in /usr/local/lib/python3.11/dist-packages (from BeautifulSoup4) (2.6)\n",
            "Requirement already satisfied: typing-extensions>=4.0.0 in /usr/local/lib/python3.11/dist-packages (from BeautifulSoup4) (4.12.2)\n"
          ]
        }
      ]
    },
    {
      "cell_type": "code",
      "execution_count": 4,
      "metadata": {
        "colab": {
          "base_uri": "https://localhost:8080/"
        },
        "id": "eqciFlHExiCh",
        "outputId": "a0f77015-e533-4041-e2c3-47c6eb3a9866"
      },
      "outputs": [
        {
          "output_type": "stream",
          "name": "stdout",
          "text": [
            "1. \"“The world as we have created it is a process of our thinking. It cannot be changed without changing our thinking.”\" - Albert Einstein\n",
            "   Tags: change, deep-thoughts, thinking, world\n",
            "\n",
            "2. \"“It is our choices, Harry, that show what we truly are, far more than our abilities.”\" - J.K. Rowling\n",
            "   Tags: abilities, choices\n",
            "\n",
            "3. \"“There are only two ways to live your life. One is as though nothing is a miracle. The other is as though everything is a miracle.”\" - Albert Einstein\n",
            "   Tags: inspirational, life, live, miracle, miracles\n",
            "\n",
            "4. \"“The person, be it gentleman or lady, who has not pleasure in a good novel, must be intolerably stupid.”\" - Jane Austen\n",
            "   Tags: aliteracy, books, classic, humor\n",
            "\n",
            "5. \"“Imperfection is beauty, madness is genius and it's better to be absolutely ridiculous than absolutely boring.”\" - Marilyn Monroe\n",
            "   Tags: be-yourself, inspirational\n",
            "\n"
          ]
        }
      ],
      "source": [
        "import requests\n",
        "from bs4 import BeautifulSoup\n",
        "url = \"https://quotes.toscrape.com/\"\n",
        "response = requests.get(url)\n",
        "if response.status_code == 200:\n",
        "    soup = BeautifulSoup(response.text, 'html.parser')\n",
        "    quotes = soup.find_all(\"div\", class_=\"quote\")\n",
        "    for i, quote in enumerate(quotes[:5]):\n",
        "        text = quote.find(\"span\", class_=\"text\").text\n",
        "        author = quote.find(\"small\", class_=\"author\").text\n",
        "        tags = [tag.text for tag in quote.find_all(\"a\", class_=\"tag\")]\n",
        "        print(f\"{i+1}. \\\"{text}\\\" - {author}\")\n",
        "        print(f\"   Tags: {', '.join(tags)}\\n\")\n",
        "else:\n",
        "    print(f\"Failed to retrieve the webpage. Status Code: {response.status_code}\")"
      ]
    },
    {
      "cell_type": "code",
      "source": [
        "import requests\n",
        "from bs4 import BeautifulSoup\n",
        "city = \"india/hyderabad\"\n",
        "url = f\"https://www.timeanddate.com/weather/{city}\"\n",
        "response = requests.get(url)\n",
        "soup = BeautifulSoup(response.text, 'html.parser')\n",
        "temp = soup.find(\"div\", class_=\"h2\").text.strip() if soup.find(\"div\", class_=\"h2\") else \"N/A\"\n",
        "desc = soup.find(\"p\").text.strip() if soup.find(\"p\") else \"N/A\"\n",
        "print(f\"Current Weather in Hyderabad: {temp} | {desc}\")"
      ],
      "metadata": {
        "colab": {
          "base_uri": "https://localhost:8080/"
        },
        "id": "j_2VSuXuzWE-",
        "outputId": "3ed0bfd5-7ca2-4de1-da5d-bdb47a4d9224"
      },
      "execution_count": 6,
      "outputs": [
        {
          "output_type": "stream",
          "name": "stdout",
          "text": [
            "Current Weather in Hyderabad: 90 °F | Clear.\n"
          ]
        }
      ]
    },
    {
      "cell_type": "code",
      "source": [
        "import requests\n",
        "from bs4 import BeautifulSoup\n",
        "search_url = \"https://www.amazon.in/s?k=iphone&crid=PQVCJSNISAH4&sprefix=iphone%2Caps%2C233&ref=nb_sb_noss_2s\"\n",
        "headers = {\n",
        "    \"User-Agent\": \"Mozilla/5.0 (Windows NT 10.0; Win64; x64) AppleWebKit/537.36 (KHTML, like Gecko) Chrome/91.0.4472.124 Safari/537.36\"\n",
        "}\n",
        "response = requests.get(search_url, headers=headers)\n",
        "soup = BeautifulSoup(response.text, \"html.parser\")\n",
        "product = soup.select_one(\"span.a-size-medium\")\n",
        "price = soup.select_one(\"span.a-price-whole\")\n",
        "if product and price:\n",
        "    print(f\"Product: {product.text.strip()}\")\n",
        "    print(f\"Price: Rs.{price.text.strip()}\")\n",
        "else:\n",
        "    print(\"Could not find product details.\")"
      ],
      "metadata": {
        "colab": {
          "base_uri": "https://localhost:8080/"
        },
        "id": "-Ce6w3eg1qqD",
        "outputId": "11c04e62-17d8-44c7-8bdb-bd0e07bbf3d1"
      },
      "execution_count": 7,
      "outputs": [
        {
          "output_type": "stream",
          "name": "stdout",
          "text": [
            "Product: Life is easier on iPhone.\n",
            "Price: Rs.1,22,900\n"
          ]
        }
      ]
    },
    {
      "cell_type": "code",
      "source": [
        "import requests\n",
        "from bs4 import BeautifulSoup\n",
        "url = \"https://en.wikipedia.org/wiki/List_of_countries_and_dependencies_by_population\"\n",
        "response = requests.get(url,headers=headers)\n",
        "soup = BeautifulSoup(response.text, \"html.parser\")\n",
        "table = soup.find(\"table\", class_=\"wikitable\")\n",
        "for row in table.find_all(\"tr\")[1:6]:\n",
        "    columns = row.find_all(\"td\")\n",
        "    country = columns[1].text.strip()\n",
        "    population = columns[2].text.strip()\n",
        "    print(f\"{country}: {population}\")"
      ],
      "metadata": {
        "colab": {
          "base_uri": "https://localhost:8080/"
        },
        "id": "Oc1RnIok3BAk",
        "outputId": "80b26c7c-e6fa-486f-950b-ffb1a9dbbac4"
      },
      "execution_count": 14,
      "outputs": [
        {
          "output_type": "stream",
          "name": "stdout",
          "text": [
            "World: 8,119,000,000\n",
            "China: 1,408,280,000\n",
            "1,402,737,000: 17.2%\n",
            "United States: 340,110,988\n",
            "Indonesia: 282,477,584\n"
          ]
        }
      ]
    },
    {
      "cell_type": "markdown",
      "source": [
        "**Displaying HTML Page**"
      ],
      "metadata": {
        "id": "cl8r1HqW63We"
      }
    },
    {
      "cell_type": "code",
      "source": [
        "from IPython.display import display, HTML"
      ],
      "metadata": {
        "id": "KmWYy9O_5gkz"
      },
      "execution_count": 16,
      "outputs": []
    },
    {
      "cell_type": "code",
      "source": [
        "from IPython.display import display, HTML\n",
        "display(HTML(\"\"\"\n",
        "   <p style=\"font-family:verdana\">This is a sample table</p>\n",
        "  <table>\n",
        "  <tr>\n",
        "    <th>Company</th>\n",
        "    <th>Contact</th>\n",
        "    <th>Country</th>\n",
        "  </tr>\n",
        "  <tr>\n",
        "    <td>Alfreds Futterkiste</td>\n",
        "    <td>Maria Anders</td>\n",
        "    <td>Germany</td>\n",
        "  </tr>\n",
        "  <tr>\n",
        "    <td>Centro comercial Moctezuma</td>\n",
        "    <td>Francisco Chang</td>\n",
        "    <td>Mexico</td>\n",
        "  </tr>\n",
        "</table>\n",
        "\"\"\"))"
      ],
      "metadata": {
        "colab": {
          "base_uri": "https://localhost:8080/",
          "height": 111
        },
        "id": "LVa6W2lf7LEd",
        "outputId": "183d4dda-e69f-43df-ec97-d161b7283334"
      },
      "execution_count": 18,
      "outputs": [
        {
          "output_type": "display_data",
          "data": {
            "text/plain": [
              "<IPython.core.display.HTML object>"
            ],
            "text/html": [
              "\n",
              "   <p style=\"font-family:verdana\">This is a sample table</p>\n",
              "  <table>\n",
              "  <tr>\n",
              "    <th>Company</th>\n",
              "    <th>Contact</th>\n",
              "    <th>Country</th>\n",
              "  </tr>\n",
              "  <tr>\n",
              "    <td>Alfreds Futterkiste</td>\n",
              "    <td>Maria Anders</td>\n",
              "    <td>Germany</td>\n",
              "  </tr>\n",
              "  <tr>\n",
              "    <td>Centro comercial Moctezuma</td>\n",
              "    <td>Francisco Chang</td>\n",
              "    <td>Mexico</td>\n",
              "  </tr>\n",
              "</table>\n"
            ]
          },
          "metadata": {}
        }
      ]
    },
    {
      "cell_type": "code",
      "source": [],
      "metadata": {
        "id": "bm7wVcO87Yl6"
      },
      "execution_count": null,
      "outputs": []
    }
  ]
}